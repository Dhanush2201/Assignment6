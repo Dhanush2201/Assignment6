{
 "cells": [
  {
   "cell_type": "code",
   "execution_count": 5,
   "metadata": {},
   "outputs": [
    {
     "name": "stdout",
     "output_type": "stream",
     "text": [
      "billa\n",
      "given string billa\n",
      "reversed string allib\n"
     ]
    }
   ],
   "source": [
    "def reverse(r):\n",
    "    str=\"\"\n",
    "    for ch in r:\n",
    "        str=ch +str\n",
    "    return str\n",
    "mystr=str(input())\n",
    "print('given string',mystr)\n",
    "print('reversed string',reverse(mystr))"
   ]
  },
  {
   "cell_type": "code",
   "execution_count": null,
   "metadata": {},
   "outputs": [],
   "source": []
  }
 ],
 "metadata": {
  "kernelspec": {
   "display_name": "Python 3",
   "language": "python",
   "name": "python3"
  },
  "language_info": {
   "codemirror_mode": {
    "name": "ipython",
    "version": 3
   },
   "file_extension": ".py",
   "mimetype": "text/x-python",
   "name": "python",
   "nbconvert_exporter": "python",
   "pygments_lexer": "ipython3",
   "version": "3.7.6"
  }
 },
 "nbformat": 4,
 "nbformat_minor": 4
}
